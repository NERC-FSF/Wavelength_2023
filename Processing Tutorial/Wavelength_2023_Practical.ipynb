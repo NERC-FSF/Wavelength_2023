{
 "cells": [
  {
   "cell_type": "markdown",
   "id": "3bc8ef3f-444a-4722-b70d-453a37c45c55",
   "metadata": {},
   "source": [
    "# NERC Field Spectroscopy Introduction to Field Spectroscopy Practical -- Wavelength 2023"
   ]
  },
  {
   "cell_type": "markdown",
   "id": "0c5ff0fb-95d4-43be-8183-bccfa3644393",
   "metadata": {},
   "source": [
    "## Aim of today's session\n",
    "This notebook will take you through the basic steps of visualising data from a field spectrometer, and will cover some of the steps that you can take to produce data products such as spectral indices and convolution to satellite sensor measurements. \n",
    "The data used in this practical was gathered using an SVC HR-1024i spectrometer with leaf clip attachment -- the same setup that you will be using in the in person practical -- measuring the spectral response of various leaf samples gathered in September 2022.\n",
    "\n",
    "## Using as part of the tutorial sets\n",
    "\n",
    "This workbook is designed such that you can use the functions and methodology set out here as part of the questions that will be asked throughout the workbook. \n",
    "\n",
    "You can also paste your own data acquired in your work into the \"data\" folder and run through the processing with minimal modification. If you would like assistance in doing this in the future please email us at fsf@nerc.ac.uk\n",
    "\n",
    "## First Steps -- Importing Modules\n",
    "\n",
    "The first stage in any workflow in Python is to import the modules (which are collections of functions) that you will be using. In this analysis, we import a number of modules, the function of which is described in the comments (the light cyan text prefixed by the hash symbol). Note, modules must be installed first before use -- this can be handled by the conda package manager, or the pip package manager (please get in touch with us if you require help in setting this up). Here, the most important module to note is SpecDAL, a module designed to handle and process field spectroscopy data. To run the cell, press Shift and ENTER, or press Run in the ribbon above."
   ]
  },
  {
   "cell_type": "code",
   "execution_count": null,
   "id": "c38f7610-af62-4831-a0c0-855415e58a58",
   "metadata": {
    "tags": []
   },
   "outputs": [],
   "source": [
    "import os    #a module that allows us to \"talk\" with our operating system, neccessary for handling paths, files and so on\n",
    "from pathlib import Path #a more specific path handling module that allows us to quickly create path names\n",
    "from specdal import Collection, Spectrum, read #We import our main package, specdal, and ask to only import certain key functions\n",
    "import pandas as pd   #Pandas is a powerful module for the handling of data sets\n",
    "from matplotlib import pyplot as plt   #matplotlib emulates the functions of MATLAB. Here, we tell matplotlib to only import one of it's functions, the pyplot function, and to import it with the identifier 'plt'\n",
    "from matplotlib.pyplot import ylabel, xlabel, title, legend   #We go even further by asking pyplot to only import some of it's subfunctions\n",
    "from scipy.signal import savgol_filter   #We will use this to smooth our data\n",
    "import numpy as np #We require numpy for integration functions that will be used during convolution"
   ]
  },
  {
   "cell_type": "markdown",
   "id": "fd670b57-7223-4ca1-b368-5d999061b185",
   "metadata": {},
   "source": [
    "## SpecDAL\n",
    "\n",
    "We will now use the SpecDAL package to read our .sig files, and assign them to a collection of spectra which we can analyse and process further. Our .sig files are located in the Data directory."
   ]
  },
  {
   "cell_type": "code",
   "execution_count": null,
   "id": "3d7aa976-40ed-4d59-a822-4dd7e3b44de0",
   "metadata": {
    "tags": []
   },
   "outputs": [],
   "source": [
    "Leaves = Collection(name='Leaves', directory ='Data')"
   ]
  },
  {
   "cell_type": "markdown",
   "id": "a1afef92-a9cc-408a-a706-f3be12995c56",
   "metadata": {},
   "source": [
    "Let's now take a look at this spectra collection. First of all, let's have a look at the header information for the first 3 spectra in our collection. This not only prints the data itself (in the \"measurements\" category), but also the metadata associated with the file, such as the measurement type (here, pct_reflect refers to this being reflectance measurements), and such things as GPS information, which can be useful when matching the GPS co-ordinates with imagery."
   ]
  },
  {
   "cell_type": "code",
   "execution_count": null,
   "id": "7e60a5b5-4e67-4037-bfaf-c9697dd3af0f",
   "metadata": {
    "tags": []
   },
   "outputs": [],
   "source": [
    "print(type(Leaves.spectra))\n",
    "for s in Leaves.spectra[0:3]:\n",
    "    print(s)"
   ]
  },
  {
   "cell_type": "markdown",
   "id": "3cfc9f57-44d7-44f8-8241-7d2bf845d9b3",
   "metadata": {},
   "source": [
    "We can take a visual look at the data too..."
   ]
  },
  {
   "cell_type": "code",
   "execution_count": null,
   "id": "88146f5b-8ccf-42b6-be9a-1aca1a77442a",
   "metadata": {
    "tags": []
   },
   "outputs": [],
   "source": [
    "Leaves.plot(figsize=(15, 6), legend = True, ylim=(0,1), xlim=(350, 2500))\n",
    "xlabel(\"Wavelength (nm)\")\n",
    "ylabel(\"Relative Reflectance\")\n",
    "plt.legend(bbox_to_anchor=(1.05, 1), loc = \"upper left\")\n",
    "plt.show()"
   ]
  },
  {
   "cell_type": "markdown",
   "id": "aac86e7c-9b2e-419a-965e-688c8d957a25",
   "metadata": {},
   "source": [
    "## Grouping Data\n",
    "\n",
    "It can be difficult to assess your data by viewing all spectra at once. We will group the data based on the vegetation type using SpecDAL's groupby function. This groups data based on their file names, in this case the name before the \"_\" separator e.g. \"redleaf\".\n"
   ]
  },
  {
   "cell_type": "code",
   "execution_count": null,
   "id": "88d39cf9-cb55-4df1-b0e0-c85fd719969d",
   "metadata": {
    "tags": []
   },
   "outputs": [],
   "source": [
    "groups = Leaves.groupby(separator='_', indices=[0])\n",
    "group_names = list(groups.keys())\n",
    "print(group_names)"
   ]
  },
  {
   "cell_type": "markdown",
   "id": "300c9102-e093-4184-9479-466b320d3920",
   "metadata": {},
   "source": [
    "We can now limit our graph to show only one end member type, e.g. 'readleaf'."
   ]
  },
  {
   "cell_type": "code",
   "execution_count": null,
   "id": "71b2dd05-7a07-4919-9283-3226a06a3dff",
   "metadata": {
    "tags": []
   },
   "outputs": [],
   "source": [
    "groups['redleaf'].plot(figsize=(15, 6), legend = True, ylim=(0,1), xlim=(350, 2500))\n",
    "xlabel(\"Wavelength (nm)\")\n",
    "ylabel(\"Relative Reflectance\")\n",
    "plt.legend(bbox_to_anchor=(1.05, 1), loc = \"upper left\")\n",
    "plt.show()"
   ]
  },
  {
   "cell_type": "markdown",
   "id": "5e57c93b-ff6e-4d80-ac20-fc6d07db84a2",
   "metadata": {},
   "source": [
    "**Question** -- Modify the above code so that the graph displays the spectra for the 'greenleaf' group."
   ]
  },
  {
   "cell_type": "code",
   "execution_count": null,
   "id": "12809a1c-a473-46e4-8029-27c084d20e7e",
   "metadata": {},
   "outputs": [],
   "source": [
    "#Use this empty cell to generate your code for the answer above. The questions below also contain empty cells immediately after for you to code in\n",
    "\n",
    "\n",
    "\n",
    "\n"
   ]
  },
  {
   "cell_type": "markdown",
   "id": "7412fb71-9394-409d-8571-25c697cbe089",
   "metadata": {},
   "source": [
    "We can then average each of these groups to produce a collection of means, called \"means\". "
   ]
  },
  {
   "cell_type": "code",
   "execution_count": null,
   "id": "01a6f36e-8a54-4874-bfcd-35eb0948efa8",
   "metadata": {
    "tags": []
   },
   "outputs": [],
   "source": [
    "means = Collection(name='means')\n",
    "for group_key, group_collection in groups.items():\n",
    "    means.append(group_collection.mean())\n",
    "\n",
    "means.plot(title='Group means', figsize=(15, 6), ylim=(0, 1),xlim=(350, 2500))\n",
    "xlabel(\"Wavelength (nm)\")\n",
    "ylabel(\"Relative Spectral Reflectance\")\n",
    "plt.show()"
   ]
  },
  {
   "cell_type": "markdown",
   "id": "cc74ee16-8919-45bb-b05c-39fdca171371",
   "metadata": {},
   "source": [
    "## Interpolation\n",
    "Look again at the print out for your data spectra, using data.head(10) function to print off the first 10 rows of data."
   ]
  },
  {
   "cell_type": "code",
   "execution_count": null,
   "id": "165e88a4-6f3a-42a6-b868-2a30e476e72a",
   "metadata": {
    "tags": []
   },
   "outputs": [],
   "source": [
    "means.data.head(10)"
   ]
  },
  {
   "cell_type": "markdown",
   "id": "7cafe534-4a11-4526-aab8-b23c4bae52c7",
   "metadata": {},
   "source": [
    "For SVC instruments, the steps between the wavelengths correspond to the spectral resolution of the instrument, and are not resolved to 1 nm spacing. We want to interpolate reflectance measurements that correspond to wavelengths with 1.0 nm spacing, a process called interpolation. This can be done using specdal as follows with the interpolate function (ignore the warning messages!)."
   ]
  },
  {
   "cell_type": "code",
   "execution_count": null,
   "id": "946c7163-4f28-462a-be76-c9a8ed01e095",
   "metadata": {
    "tags": []
   },
   "outputs": [],
   "source": [
    "means.interpolate(spacing=1, method='linear')\n",
    "means.data.head(10)"
   ]
  },
  {
   "cell_type": "markdown",
   "id": "f10a8463-ab75-4245-b6ff-dc7d555b952e",
   "metadata": {},
   "source": [
    "## Relative vs Absolute Reflectance\n",
    "\n",
    "Notice from our previous graphs that the y-axes are labelled \"Relative Reflectance\". This is because these spectra were recorded relative to the reflectance of the white Spectralon panel. We take measurements relative to this panel to approximate the total irradiance coming from the sun and hitting the object you are interested in taking a spectral measurement of. Because the panel does not reflect 100% of the light that hits it in a completely uniform manner we need to adjust our \"Relative Reflectance\" measurements using the panel's known, laboratory calibrated reflectance to convert our field measurements to absolute reflectance.\n",
    "\n",
    "We can derive the absolute reflectance then by multiplying our field measurements by the spectral reflectance of the panel for each wavelength. We can use this file to convert our measurements to absolute reflectance, pulling data from our calibration certificate, SRT_44.csv. Note -- we are creating new dataframes that will host the corrected values, but the original dataframe can be corrected without having to assign a new identifier!"
   ]
  },
  {
   "cell_type": "code",
   "execution_count": null,
   "id": "6667a611-bd34-4fbe-9951-5281834f5a05",
   "metadata": {
    "tags": []
   },
   "outputs": [],
   "source": [
    "reference_panel = pd.read_csv(\"SRT_44.csv\", index_col = \"wavelength\")\n",
    "Absolute_Leaf_Means = means.data.mul(reference_panel['Reflectance'], axis = 0)"
   ]
  },
  {
   "cell_type": "markdown",
   "id": "5bcbb4ba-0d53-485e-8bdd-df69a4708e66",
   "metadata": {},
   "source": [
    "## Other prcoessing steps to consider\n",
    "Depending on the spectrometer that you use, you may have to conduct 'overlap matching' and 'jump correction'. A typical field spectrometer covering the 350 nm to 2500 nm range consists of three spectrometers -- one covering the VNIR range (350 - 1000 nm), and two for the SWIR range (usually classed as SWIR-A, covering 1000 nm to 1800 nm, and SWIR-B, covering the 1800 nm to 2500 nm range. These spectrometers overlap in their ranges, leading to the zig-zags which you can see when plotting non-overlap corrected data. We can correct this using specdal's overlap stitching function, stitch, and then resolve 'jumps' in the subsequent data using the jump correction function, jump_correct.\n",
    "\n",
    "For field measurements not using a leaf clip probe, where absorption of solar irradiance by water vapour in the atmopshere occurs, noisy regions ~1400nm and ~1900nm can occur in your data. Including these regions in your data can interfere with classification or use in indices. Sometimes, it's appropriate to remove these regions. For this tutorial, we won't do so, but if you need any help on this issue, please contact FSF at fsf@ed.ac.uk."
   ]
  },
  {
   "cell_type": "markdown",
   "id": "79b95e62-212a-4bee-896f-38bc6e90176f",
   "metadata": {},
   "source": [
    "## Final processing stages\n",
    "Let's take a look at our final data output, where raw .sig files have been amalgamated into groups, averaged, interpolated, and converted to absolute reflectance..."
   ]
  },
  {
   "cell_type": "code",
   "execution_count": null,
   "id": "85f01e07-abb4-4c08-9fe0-ffa7d1d6a077",
   "metadata": {
    "tags": []
   },
   "outputs": [],
   "source": [
    "Absolute_Leaf_Means.plot(title='Leaf Means', figsize=(15, 6), ylim=(0, 1),xlim=(350, 2500))\n",
    "xlabel(\"Wavelength (nm)\")\n",
    "ylabel(\"Absolute Spectral Reflectance\")\n",
    "plt.show()"
   ]
  },
  {
   "cell_type": "markdown",
   "id": "bedfbcda-87ac-474d-bca9-744cbcd7cf18",
   "metadata": {},
   "source": [
    "We can now export this collection as a .csv file for processing outwith Python --"
   ]
  },
  {
   "cell_type": "code",
   "execution_count": null,
   "id": "a571b9c8-8317-44ae-9614-f8a9e8b15a0a",
   "metadata": {
    "tags": []
   },
   "outputs": [],
   "source": [
    "Absolute_Leaf_Means.to_csv(\"Leaf_Means.csv\")"
   ]
  },
  {
   "cell_type": "markdown",
   "id": "7f19b097-9981-4b11-94a0-95a0b57eca97",
   "metadata": {},
   "source": [
    "## Vegetation Indices\n",
    "With your data now processed and converted into absolute spectral reflectance, we can look more closely at differences between vegetation types. We can use dimensionality reduction methods such as spectral indices to do this --\n",
    "\n",
    "https://fsf.nerc.ac.uk/resources/learning/HSI.shtml\n",
    "\n",
    "A number of spectral indices have been designed to highlight different vegetation properties. In this next section, we will use some of them to explore differences between our vegetation types. For a full description of the indices used, please visit: https://www.l3harrisgeospatial.com/docs/NarrowbandGreenness.html\n",
    "\n",
    "One of the most commonly used vegetation indices is the Normalized Difference Vegetation Index (NDVI). When using Sentinel-2 data, the equation to calculate NDVI is -- \n",
    "\n",
    "\\begin{align}\n",
    "NDVI = \\dfrac{B_8 - B_4}{B_8 + B_4}\n",
    "\\end{align}\n",
    "\n",
    "where Band 8 is equivalent to 842 nm, and Band 4 is equivalent to 665 nm. \n",
    "\n",
    "Using the inbuilt Python function .iloc, we can calculate NDVI for our leaf means. First, let's look at what iloc does."
   ]
  },
  {
   "cell_type": "code",
   "execution_count": null,
   "id": "2e54eed0-5b4e-4a0c-8dc7-8f4fbad2ae57",
   "metadata": {
    "tags": []
   },
   "outputs": [],
   "source": [
    "Absolute_Leaf_Means.iloc[502]"
   ]
  },
  {
   "cell_type": "markdown",
   "id": "d3db9e2f-2d44-43a2-8ea3-306d63a93308",
   "metadata": {},
   "source": [
    "Here, iloc takes the index number for the Absolute_Leaf_Means dataframe, and reports what is at that value -- here, the reflectance of our different leaf groups, and also, as 'Name', the wavelength at which those reflectances were measured. You should see that 'Name' equals 842.0 nm. Notice the offset between the iloc value given and our wavelength value -- 340, which is the wavelength value at which our dataframe begins.\n",
    "\n",
    "With this in mind, we can now proceed to calculate NDVI:"
   ]
  },
  {
   "cell_type": "code",
   "execution_count": null,
   "id": "993db36d-cd3d-4377-9949-393a2c2a85f8",
   "metadata": {
    "tags": []
   },
   "outputs": [],
   "source": [
    "Absolute_Leaf_Means.loc['NDVI'] = ((Absolute_Leaf_Means.iloc[502] - Absolute_Leaf_Means.iloc[325]) / \n",
    "                                  (Absolute_Leaf_Means.iloc[502] + Absolute_Leaf_Means.iloc[325])) \n",
    "\n",
    "print(Absolute_Leaf_Means.loc['NDVI'])"
   ]
  },
  {
   "cell_type": "markdown",
   "id": "292f5130-b401-48c9-bf00-f4fbf56afc9a",
   "metadata": {},
   "source": [
    "**Question** -- The Carotenoid Reflectance Index looks at the the concentrations of carotenoids in vegetation. Carotenoids function in light absorption processes in plants, as well as in protecting plants from the harmful effects of too much light. Higher CRI1 values mean greater carotenoid concentration relative to chlorophyll. The value of this index ranges from 0 to more than 15. The common range for green vegetation is 1 to 12:\n",
    "\n",
    "\\begin{align}\n",
    "CRI = \\dfrac{1}{510} - \\dfrac{1}{550}\n",
    "\\end{align}\n",
    "\n",
    "Determine the Carotenoid Reflectance Index for your leaf data set."
   ]
  },
  {
   "cell_type": "code",
   "execution_count": null,
   "id": "8564158e-88ca-4deb-914e-04d9738854b3",
   "metadata": {},
   "outputs": [],
   "source": [
    "\n",
    "\n",
    "\n",
    "\n",
    "\n"
   ]
  },
  {
   "cell_type": "markdown",
   "id": "397ded72-0ea9-4d7b-9f35-3547dc9f55c6",
   "metadata": {},
   "source": [
    "**Question** -- The Plant Senescence Reflectance Index maximizes the sensitivity of the index to the ratio of bulk carotenoids (for example, alpha-carotene and beta-carotene) to chlorophyll. An increase in PSRI indicates increased canopy stress (carotenoid pigment), the onset of canopy senescence, and plant fruit ripening. Applications include vegetation health monitoring, plant physiological stress detection, and crop production and yield analysis. The value of this index ranges from -1 to 1. The common range for green vegetation is -0.1 to 0.2:\n",
    "\n",
    "\\begin{align}\n",
    "PSRI = \\dfrac{680 - 500}{750}\n",
    "\\end{align}\n",
    "\n",
    "Determine the Plant Senescence Reflectance Index for your leaf data set.\n"
   ]
  },
  {
   "cell_type": "code",
   "execution_count": null,
   "id": "d62bb088-6d96-4fdb-9f69-fd3d831e8d6e",
   "metadata": {},
   "outputs": [],
   "source": [
    "\n",
    "\n",
    "\n",
    "\n",
    "\n"
   ]
  },
  {
   "cell_type": "markdown",
   "id": "33b2eb4f-b2ba-45c7-bc24-bada396c9944",
   "metadata": {},
   "source": [
    "## Convolution\n",
    "If your research relates to specific multispectral imaging sensors e.g. Sentinel 2, it can be useful to resample your hyperspectral data so that it matches the bands of your specific sensor. We can do this by convolving the hyperspectral data to a multispectral sensor's \"spectral response function\".\n",
    "\n",
    "The Field Spectroscopy Facility has a Python package available for swift convolution of hyperspectral data to Sentinel-2 and WorldView multispectral imagery. For this tutorial, we'll look at how this package works, by convolving the data for one band of Sentinel-2 -- Band 4.\n",
    "\n",
    "Band 4 of the Sentinel-2 sensor is also know as the \"Red\" band. The centre wavlength -- the wavelength at which it has the most sensitivty -- is 665 nm.\n",
    "\n",
    "The band, however, is sensitive to other wavelengths (what is termed as its 'spectral response feature'), from 636 nm to 684 nm. The spectral response feature for Band 4, and other Sentinel 2 bands, is shown below.\n",
    "\n",
    "![image](Image/Sentinel_2_Bands.png)\n",
    "\n",
    "In order to accurately compare our hyperspectral data to Band 4, we must convolve the hyperspectral data within the wavelength regions of Band 4's SRF. This requires knowledge of the varying sensitvity of the band. The .csv file 'Sentinel 2 SRF.csv' contains this information. \n"
   ]
  },
  {
   "cell_type": "code",
   "execution_count": null,
   "id": "07cbb0e6-6214-4f87-9613-13cdbda59896",
   "metadata": {
    "tags": []
   },
   "outputs": [],
   "source": [
    "Sentinel_2_bands = pd.read_csv('Sentinel 2 SRF.csv', index_col=0)"
   ]
  },
  {
   "cell_type": "markdown",
   "id": "54e113d7-ba52-406b-9a94-18e3b0200f7a",
   "metadata": {
    "tags": []
   },
   "source": [
    "Knowing the starting and ending wavelength of the SRF of interest, we can now conduct convolution, which -- mathematically -- is the result of the trapezodial integration of the hyperspectral data for the SRF region divided by the result of the trapezoidial integration of the SRF itself."
   ]
  },
  {
   "cell_type": "code",
   "execution_count": null,
   "id": "05ad7a0b-2a44-41f5-9cb6-929678c486ec",
   "metadata": {
    "tags": []
   },
   "outputs": [],
   "source": [
    "Absolute_Leaf_Means.loc['Band 4 - Red'] = (np.trapz((Absolute_Leaf_Means.iloc[306:344]), axis = 0)) / (np.trapz((Sentinel_2_bands.iloc[306:344, 3]), axis = 0))\n",
    "print(Absolute_Leaf_Means.loc['Band 4 - Red'])"
   ]
  },
  {
   "cell_type": "markdown",
   "id": "836b7637-bc10-4ca2-819d-698f67bcd661",
   "metadata": {},
   "source": [
    "Considering this code in more detail -- **np.trapz** is the mathematical function conducted on the data; **.iloc[296:344]** gives the region to conduct the convolution (iloc[306] is equal to wavelength 636 nm, and iloc[344] is equal to wavelength 684 nm); and the **,3** after **296:344** for the integration of the Sentinel 2 bands relates to the column number in which the SRF for Band 4 is stored (the relation between column number and band in the SRF file is **Band Number - 1**). The final output gives the reflectance value of the convoluted hyperspectral data. "
   ]
  },
  {
   "cell_type": "markdown",
   "id": "0aa0113d-02b5-4e11-9080-901472fd8877",
   "metadata": {},
   "source": [
    "**Question** -- We will now repeat the process as outlined above, but for Band 3, 'Green'. Band 3 has a centre wavlength at 560 nm. The SRF for Band 3 extends from 538 nm to 583 nm. Modifying the code above, create a row in Absolute_Leaf_Means called 'Band 3 - Green' that provides the output of the convolution of the hyperspectral data to the Band 3 SRF. "
   ]
  },
  {
   "cell_type": "code",
   "execution_count": null,
   "id": "b7e16b18-213f-46eb-b4f4-e75768626994",
   "metadata": {
    "tags": []
   },
   "outputs": [],
   "source": [
    "\n",
    "\n",
    "\n",
    "\n",
    "\n",
    "\n"
   ]
  },
  {
   "cell_type": "markdown",
   "id": "86022109-b634-4f89-bb61-aa62c67ef0bb",
   "metadata": {},
   "source": [
    "**Question** -- Repeat the same process for Sentinel-2 Band 2, 'Blue'. The centre wavelength for Band 2 is 520 nm, and the SRF extends from 439 nm to 533 nm. "
   ]
  },
  {
   "cell_type": "code",
   "execution_count": null,
   "id": "f552c400-2f02-43be-973f-11b620e254a9",
   "metadata": {
    "tags": []
   },
   "outputs": [],
   "source": [
    "\n",
    "\n",
    "\n",
    "\n"
   ]
  },
  {
   "cell_type": "markdown",
   "id": "05ce33d6-c6da-490c-9f56-ad6332d609ba",
   "metadata": {},
   "source": [
    "**Bonus Question** -- With the Red, Green and Blue bands calculated, you can deduce the average colour of each leaf type by considering that in the RGB colour model, values are scaled from 0 to 255. "
   ]
  },
  {
   "cell_type": "code",
   "execution_count": null,
   "id": "32605e74-d2eb-4c62-b594-891619276e5d",
   "metadata": {
    "tags": []
   },
   "outputs": [],
   "source": [
    "\n",
    "\n",
    "\n",
    "\n"
   ]
  },
  {
   "cell_type": "markdown",
   "id": "b0e67888-2922-45fc-80d5-71a6d7384136",
   "metadata": {},
   "source": [
    "## Conclusion\n",
    "\n",
    "We have now gone from raw field spectroscopy data to post-processed spectra, that have then formed the basis of further investigation, such as NDVI and convolution. With these tools, you can start using your spectral data to answer many questions in different fields where spectroscopy is utilized, such as geology, ecology, or marine science!\n",
    "\n",
    "As always, you can contact the Field Spectroscopy Facility for any question regarding both acquistion and processing of spectral data, at fsf@ed.ac.uk."
   ]
  }
 ],
 "metadata": {
  "kernelspec": {
   "display_name": "Python 3 (ipykernel)",
   "language": "python",
   "name": "python3"
  },
  "language_info": {
   "codemirror_mode": {
    "name": "ipython",
    "version": 3
   },
   "file_extension": ".py",
   "mimetype": "text/x-python",
   "name": "python",
   "nbconvert_exporter": "python",
   "pygments_lexer": "ipython3",
   "version": "3.11.2"
  }
 },
 "nbformat": 4,
 "nbformat_minor": 5
}
